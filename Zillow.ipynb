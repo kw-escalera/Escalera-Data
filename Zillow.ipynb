{
 "cells": [
  {
   "cell_type": "code",
   "execution_count": null,
   "id": "7f8dc2b0-de5d-412e-b415-1cbc2fce9566",
   "metadata": {},
   "outputs": [
    {
     "name": "stdin",
     "output_type": "stream",
     "text": [
      "Enter Zillow URL on the first page https://www.zillow.com/new-york-ny/?searchQueryState=%7B%22isMapVisible%22%3Atrue%2C%22mapBounds%22%3A%7B%22north%22%3A41.01102510583958%2C%22south%22%3A40.383198814571685%2C%22east%22%3A-73.4399776308594%2C%22west%22%3A-74.51938436914065%7D%2C%22filterState%22%3A%7B%22sort%22%3A%7B%22value%22%3A%22globalrelevanceex%22%7D%2C%22beds%22%3A%7B%22min%22%3A1%2C%22max%22%3Anull%7D%7D%2C%22isListVisible%22%3Atrue%2C%22regionSelection%22%3A%5B%7B%22regionId%22%3A6181%2C%22regionType%22%3A6%7D%5D%2C%22pagination%22%3A%7B%7D%2C%22category%22%3A%22cat1%22%2C%22usersSearchTerm%22%3A%22new%20york%22%7D\n"
     ]
    },
    {
     "name": "stdout",
     "output_type": "stream",
     "text": [
      "41\n",
      "82\n",
      "123\n",
      "164\n",
      "205\n",
      "246\n",
      "287\n"
     ]
    }
   ],
   "source": [
    "import requests\n",
    "import json\n",
    "import json\n",
    "import urllib.parse\n",
    "import pandas as pd\n",
    "import time\n",
    "import random\n",
    "def parse_zillow_url(url):\n",
    "        # Parse the URL\n",
    "        parsed_url = urllib.parse.urlparse(url)\n",
    "        query_params = urllib.parse.parse_qs(parsed_url.query)\n",
    "    \n",
    "        # Decode the searchQueryState parameter (if present)\n",
    "        if \"searchQueryState\" in query_params:\n",
    "            search_query_state = query_params[\"searchQueryState\"][0]  # Extract the first value\n",
    "            search_query_state_dict = json.loads(search_query_state)\n",
    "    \n",
    "            # Modify the structure as needed\n",
    "            payload = {\n",
    "                \"searchQueryState\": {\n",
    "                    \"pagination\": {\n",
    "                        \"currentPage\": 10  # Example modification\n",
    "                    },\n",
    "                    \"isMapVisible\": search_query_state_dict.get(\"isMapVisible\", True),\n",
    "                    \"mapBounds\": search_query_state_dict.get(\"mapBounds\", {}),\n",
    "                    \"mapZoom\": 9,  # Example modification\n",
    "                    \"regionSelection\": search_query_state_dict.get(\"regionSelection\", []),\n",
    "                    \"filterState\": {\n",
    "                        \"sortSelection\": search_query_state_dict.get(\"filterState\", {}).get(\"sort\", {\"value\": \"globalrelevanceex\"})\n",
    "                    },\n",
    "                    \"isListVisible\": search_query_state_dict.get(\"isListVisible\", True),\n",
    "                },\n",
    "                \"wants\": {\n",
    "                    \"cat1\": [\"listResults\", \"mapResults\"],\n",
    "                    \"cat2\": [\"total\"]\n",
    "                },\n",
    "                \"requestId\": 40,  # Example ID\n",
    "                \"isDebugRequest\": False\n",
    "            }\n",
    "    \n",
    "            return payload\n",
    "        else:\n",
    "            raise ValueError(\"The URL does not contain 'searchQueryState'.\")\n",
    "\n",
    "\n",
    "url_zillow = input(\"Enter Zillow URL on the first page\")\n",
    "\n",
    "\n",
    "if \"www.zillow.com\" in url_zillow:\n",
    "    \n",
    "    url = \"https://www.zillow.com/async-create-search-page-state\"\n",
    "    \n",
    "    payl = parse_zillow_url(url_zillow)\n",
    "\n",
    "\n",
    "    payload = json.dumps(payl)\n",
    "    headers = {\n",
    "      'accept': '*/*',\n",
    "      'accept-language': 'en-GB,en-US;q=0.9,en;q=0.8,fr;q=0.7,ar;q=0.6,es;q=0.5',\n",
    "      'content-type': 'application/json',\n",
    "      'cookie': 'zguid=24|%244d365e13-7bd9-4581-b922-d94fc8f0d72a; zgsession=1|0aa6f3ff-0212-4370-a5cb-f33c2ebe0ae8; zjs_anonymous_id=%224d365e13-7bd9-4581-b922-d94fc8f0d72a%22; zjs_user_id=null; zg_anonymous_id=%2287e6fd20-bf43-4eb1-ab48-de09557fd20f%22; pxcts=9b5afc3d-c9dd-11ef-890d-b222d29369c6; _pxvid=9b5aeba2-c9dd-11ef-890d-2ac5a02d21a2; _ga=GA1.2.240142066.1735913911; _gid=GA1.2.292968448.1735913911; _gcl_au=1.1.1439067553.1735913921; _scid=bFrWYkd37cFobDH45H3QlWRvku5wPY_b; _ScCbts=%5B%22340%3Bchrome.2%3A2%3A5%22%5D; DoubleClickSession=true; _sctr=1%7C1735858800000; _pin_unauth=dWlkPVpqUTNOV1U0WkRZdE1EazRNaTAwWmpSbExUa3paVEV0TXpVeFpXTmpZakEyT0RkbA; _tt_enable_cookie=1; _ttp=4ih7cedrW02Bk2G9MduoZAcbZwg.tt.1; _fbp=fb.1.1735913943644.869133800975221160; _clck=ehse1%7C2%7Cfsa%7C0%7C1829; JSESSIONID=E740D768733A7EF20D6CBFB134FEC54E; _scid_r=ddrWYkd37cFobDH45H3QlWRvku5wPY_br2Xt1A; _rdt_uuid=1735913922177.a64a3290-d8c0-46d7-8dd6-4197954d7eb1; __gads=ID=22c80997a95fadb5:T=1735913921:RT=1735964269:S=ALNI_Mbvht8zmKW3lWRr2DGHx43sniIgQg; __gpi=UID=00000fc4ae9b46f4:T=1735913921:RT=1735964269:S=ALNI_MYCkBGw5hIgMVOQ9pqjlkGfjjLIlQ; __eoi=ID=56a034635992cb85:T=1735913921:RT=1735964269:S=AA-AfjbVdjXibMLt9ZTpI5z0djQR; tfpsi=1380faa7-70c7-43dc-95c5-e6fbde25afb2; _px3=d2cbae41c081fa7f40780a98c0d1c8eda90e04016ae118437ad6bce2ae0c7115:4BqUS55Nz6WKPSEfykohr/q6CFQ4/oxOSHQI0bdRlWzrkYDofxLGFw8W94b+Y/jE5Fr0gNuCVasJdlbzgseKhg==:1000:VwT30t0etwok+F1/P+NlLOEJD48rQ5A9PiJEIPVFhAyMk4Hrrqm9omXYeRfHyjB2b8l2/rQg/nYNTnHysSYnOgFDoSTxDoOWRaj0toLlebtRdJbv2kQZCYmeKd00dVHRjgcF+EsGigB63KnFerfvzcbVQVB7DzArj3iBBTzBSpPh3uBex+5UdPYbqqVEJeR4LcTVMiygmGF49uNubWYH6a+6MXCX59KRHJUsff3VF/4=; AWSALB=09ciUp4QsHuMvAHrX+hlXVFx6lqm+IXvhP2pHuCu+yG/b1KHR6ohyQ9meHnsLFH1sc5qaTJTW1AB5/qcTQKkokGOGgmz8U/A3Sc5d+mhxaqIy4BjBvOtlkGRUxsS; AWSALBCORS=09ciUp4QsHuMvAHrX+hlXVFx6lqm+IXvhP2pHuCu+yG/b1KHR6ohyQ9meHnsLFH1sc5qaTJTW1AB5/qcTQKkokGOGgmz8U/A3Sc5d+mhxaqIy4BjBvOtlkGRUxsS; _uetsid=a5604a90c9dd11efaf9ae9ce8c614ed6; _uetvid=3be23f1037b911ef9a732fb126495633; search=6|1738556504109%7Crect%3D29.897975390578054%2C-97.68880591406251%2C28.451960922122836%2C-99.84761939062501%26rid%3D6915%26disp%3Dmap%26mdm%3Dauto%26p%3D9%26listPriceActive%3D1%26fs%3D1%26fr%3D0%26mmm%3D0%26rs%3D0%26singlestory%3D0%26housing-connector%3D0%26parking-spots%3Dnull-%26abo%3D0%26garage%3D0%26pool%3D0%26ac%3D0%26waterfront%3D0%26finished%3D0%26unfinished%3D0%26cityview%3D0%26mountainview%3D0%26parkview%3D0%26waterview%3D0%26hoadata%3D1%26zillow-owned%3D0%263dhome%3D0%26showcase%3D0%26featuredMultiFamilyBuilding%3D0%26onlyRentalStudentHousingType%3D0%26onlyRentalIncomeRestrictedHousingType%3D0%26onlyRentalMilitaryHousingType%3D0%26onlyRentalDisabledHousingType%3D0%26onlyRentalSeniorHousingType%3D0%26commuteMode%3Ddriving%26commuteTimeOfDay%3Dnow%09%096915%09%7B%22isList%22%3Atrue%2C%22isMap%22%3Atrue%7D%09%09%09%09%09; _clsk=1au094q%7C1735964507376%7C9%7C0%7Ct.clarity.ms%2Fcollect; search=6|1738556565342%7Crect%3D29.897975390578054%2C-97.68880591406251%2C28.451960922122836%2C-99.84761939062501%26rid%3D6915%26disp%3Dmap%26mdm%3Dauto%26p%3D12%26listPriceActive%3D1%26fs%3D1%26fr%3D0%26mmm%3D0%26rs%3D0%26singlestory%3D0%26housing-connector%3D0%26parking-spots%3Dnull-%26abo%3D0%26garage%3D0%26pool%3D0%26ac%3D0%26waterfront%3D0%26finished%3D0%26unfinished%3D0%26cityview%3D0%26mountainview%3D0%26parkview%3D0%26waterview%3D0%26hoadata%3D1%26zillow-owned%3D0%263dhome%3D0%26showcase%3D0%26featuredMultiFamilyBuilding%3D0%26onlyRentalStudentHousingType%3D0%26onlyRentalIncomeRestrictedHousingType%3D0%26onlyRentalMilitaryHousingType%3D0%26onlyRentalDisabledHousingType%3D0%26onlyRentalSeniorHousingType%3D0%26commuteMode%3Ddriving%26commuteTimeOfDay%3Dnow%09%096915%09%7B%22isList%22%3Atrue%2C%22isMap%22%3Atrue%7D%09%09%09%09%09',\n",
    "      'origin': 'https://www.zillow.com',\n",
    "      'priority': 'u=1, i',\n",
    "      'referer': url_zillow,\n",
    "      'sec-ch-ua': '\"Google Chrome\";v=\"131\", \"Chromium\";v=\"131\", \"Not_A Brand\";v=\"24\"',\n",
    "      'sec-ch-ua-mobile': '?0',\n",
    "      'sec-ch-ua-platform': '\"Windows\"',\n",
    "      'sec-fetch-dest': 'empty',\n",
    "      'sec-fetch-mode': 'cors',\n",
    "      'sec-fetch-site': 'same-origin',\n",
    "      'user-agent': 'Mozilla/5.0 (Windows NT 10.0; Win64; x64) AppleWebKit/537.36 (KHTML, like Gecko) Chrome/131.0.0.0 Safari/537.36'\n",
    "    }\n",
    "    data = []\n",
    "    for page in range(1,21):\n",
    "        payl[\"searchQueryState\"][\"pagination\"][\"currentPage\"] = page\n",
    "        payload = json.dumps(payl)\n",
    "        response = requests.request(\"PUT\", url, headers=headers, data=payload)\n",
    "        if response.status_code == 200:\n",
    "            data.extend(response.json()[\"cat1\"][\"searchResults\"][\"listResults\"])\n",
    "        else:\n",
    "            print(response.text)\n",
    "            break\n",
    "        print(len(data))\n",
    "        time.sleep(random.randint(1,4))\n",
    "    dd = []\n",
    "    for i in data:\n",
    "        if i not in dd:\n",
    "            dd.append(i)\n",
    "\n",
    "    df = pd.DataFrame(data)\n",
    "    df.to_csv(f'Zillow-{url_zillow.split(\"/\")[3]}.csv')\n",
    "else:\n",
    "    print(\"Wrong url\")\n",
    "\n"
   ]
  },
  {
   "cell_type": "code",
   "execution_count": 8,
   "id": "6a6ac1df-6f20-41b6-8332-567842bd754b",
   "metadata": {},
   "outputs": [
    {
     "data": {
      "text/plain": [
       "'new-york-ny'"
      ]
     },
     "execution_count": 8,
     "metadata": {},
     "output_type": "execute_result"
    }
   ],
   "source": []
  },
  {
   "cell_type": "code",
   "execution_count": null,
   "id": "c20dc039-9e9c-497e-9469-3c84a3d1e89f",
   "metadata": {},
   "outputs": [],
   "source": []
  }
 ],
 "metadata": {
  "kernelspec": {
   "display_name": "Python 3 (ipykernel)",
   "language": "python",
   "name": "python3"
  },
  "language_info": {
   "codemirror_mode": {
    "name": "ipython",
    "version": 3
   },
   "file_extension": ".py",
   "mimetype": "text/x-python",
   "name": "python",
   "nbconvert_exporter": "python",
   "pygments_lexer": "ipython3",
   "version": "3.11.9"
  }
 },
 "nbformat": 4,
 "nbformat_minor": 5
}
