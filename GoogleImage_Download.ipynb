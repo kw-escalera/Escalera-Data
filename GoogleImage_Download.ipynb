{
 "cells": [
  {
   "cell_type": "markdown",
   "id": "dd6fbbf9",
   "metadata": {},
   "source": [
    "## Imports"
   ]
  },
  {
   "cell_type": "code",
   "execution_count": 4,
   "id": "88083a5d",
   "metadata": {},
   "outputs": [],
   "source": [
    "from bs4 import BeautifulSoup\n",
    "from time import sleep\n",
    "from urllib.request import Request, urlopen\n",
    "\n",
    "from selenium import webdriver\n",
    "from selenium.webdriver.common.keys import Keys\n",
    "from selenium.webdriver.support.ui import WebDriverWait\n",
    "from selenium.webdriver.common.by import By\n",
    "from selenium.webdriver.support import expected_conditions as EC\n",
    "from requests_html import HTMLSession\n",
    "\n",
    "from tqdm import tqdm\n",
    "\n",
    "import pandas as pd\n",
    "import csv\n",
    "import base64\n",
    "from PIL import Image\n",
    "from io import BytesIO\n",
    "import os\n",
    "import requests\n",
    "import traceback\n",
    "import re"
   ]
  },
  {
   "cell_type": "markdown",
   "id": "e29b0641",
   "metadata": {},
   "source": [
    "## Selenium Setup"
   ]
  },
  {
   "cell_type": "code",
   "execution_count": 5,
   "id": "b231ca90",
   "metadata": {
    "scrolled": true
   },
   "outputs": [],
   "source": [
    "def openChrome():\n",
    "    portz = 9995\n",
    "    chromeOptions = webdriver.ChromeOptions()\n",
    "    chromeOptions.add_argument(f'--remote-debugging-port={portz}')\n",
    "    chromeOptions.add_experimental_option(\"excludeSwitches\", [\"enable-automation\"])\n",
    "    chromeOptions.add_argument(\"--disable-blink-features=AutomationControlled\")\n",
    "    chromeOptions.add_argument(\"--disable-blink-features\")\n",
    "    \n",
    "    driver = webdriver.Chrome(executable_path=r\"/Users/kylewang/Desktop/MLSA/chromedriver\", options=chromeOptions)  \n",
    "    driver.set_window_rect(0, 0, width=360, height=600)\n",
    "    driver.set_page_load_timeout(66)\n",
    "    return driver"
   ]
  },
  {
   "cell_type": "markdown",
   "id": "4c3db07d",
   "metadata": {},
   "source": [
    "## Scraper Code"
   ]
  },
  {
   "cell_type": "code",
   "execution_count": 6,
   "id": "7701fd60",
   "metadata": {},
   "outputs": [
    {
     "data": {
      "text/html": [
       "<div>\n",
       "<style scoped>\n",
       "    .dataframe tbody tr th:only-of-type {\n",
       "        vertical-align: middle;\n",
       "    }\n",
       "\n",
       "    .dataframe tbody tr th {\n",
       "        vertical-align: top;\n",
       "    }\n",
       "\n",
       "    .dataframe thead th {\n",
       "        text-align: right;\n",
       "    }\n",
       "</style>\n",
       "<table border=\"1\" class=\"dataframe\">\n",
       "  <thead>\n",
       "    <tr style=\"text-align: right;\">\n",
       "      <th></th>\n",
       "      <th>HTL</th>\n",
       "      <th>HOTEL_NAME</th>\n",
       "      <th>ADDRESS</th>\n",
       "      <th>Google_Search</th>\n",
       "      <th>Google_Image_Href</th>\n",
       "      <th>Google_Streetview_Href</th>\n",
       "    </tr>\n",
       "  </thead>\n",
       "  <tbody>\n",
       "    <tr>\n",
       "      <th>0</th>\n",
       "      <td>DA75201400.OLIVE.ST.................</td>\n",
       "      <td>SHERATON DALLAS</td>\n",
       "      <td>400 OLIVE ST</td>\n",
       "      <td>SHERATON DALLAS 400 OLIVE ST</td>\n",
       "      <td>NaN</td>\n",
       "      <td>NaN</td>\n",
       "    </tr>\n",
       "    <tr>\n",
       "      <th>1</th>\n",
       "      <td>GR760511501.GAYLORD.TRL.............</td>\n",
       "      <td>GAYLORD TEXAS RESORT &amp; CONF CTR</td>\n",
       "      <td>1501 GAYLORD TRL</td>\n",
       "      <td>GAYLORD TEXAS RESORT &amp; CONF CTR 1501 GAYLORD TRL</td>\n",
       "      <td>NaN</td>\n",
       "      <td>NaN</td>\n",
       "    </tr>\n",
       "    <tr>\n",
       "      <th>2</th>\n",
       "      <td>DA752072201.N.STEMMONS.FWY..........</td>\n",
       "      <td>HILTON ANATOLE HOTEL</td>\n",
       "      <td>2201 N STEMMONS FWY</td>\n",
       "      <td>HILTON ANATOLE HOTEL 2201 N STEMMONS FWY</td>\n",
       "      <td>NaN</td>\n",
       "      <td>NaN</td>\n",
       "    </tr>\n",
       "    <tr>\n",
       "      <th>3</th>\n",
       "      <td>HO770101600.LAMAR.ST................</td>\n",
       "      <td>HILTON AMERICAS CONVENTION CTR</td>\n",
       "      <td>1600 LAMAR ST</td>\n",
       "      <td>HILTON AMERICAS CONVENTION CTR 1600 LAMAR ST</td>\n",
       "      <td>NaN</td>\n",
       "      <td>NaN</td>\n",
       "    </tr>\n",
       "    <tr>\n",
       "      <th>4</th>\n",
       "      <td>DA75207300.E.REUNION.BLVD...........</td>\n",
       "      <td>HYATT REGENCY DALLAS DOWNTOWN</td>\n",
       "      <td>300 E REUNION BLVD</td>\n",
       "      <td>HYATT REGENCY DALLAS DOWNTOWN 300 E REUNION BLVD</td>\n",
       "      <td>NaN</td>\n",
       "      <td>NaN</td>\n",
       "    </tr>\n",
       "    <tr>\n",
       "      <th>...</th>\n",
       "      <td>...</td>\n",
       "      <td>...</td>\n",
       "      <td>...</td>\n",
       "      <td>...</td>\n",
       "      <td>...</td>\n",
       "      <td>...</td>\n",
       "    </tr>\n",
       "    <tr>\n",
       "      <th>7526</th>\n",
       "      <td>HO770707700.WILLOW.CHASE.BLVD.APT.17</td>\n",
       "      <td>MARRIOTT EXECUSTAY</td>\n",
       "      <td>7700 WILLOW CHASE BLVD APT 1733</td>\n",
       "      <td>MARRIOTT EXECUSTAY 7700 WILLOW CHASE BLVD APT ...</td>\n",
       "      <td>NaN</td>\n",
       "      <td>NaN</td>\n",
       "    </tr>\n",
       "    <tr>\n",
       "      <th>7527</th>\n",
       "      <td>DR786202390.PROCHNOW.RD.............</td>\n",
       "      <td>MT GAINOR INN</td>\n",
       "      <td>2390 PROCHNOW RD</td>\n",
       "      <td>MT GAINOR INN 2390 PROCHNOW RD</td>\n",
       "      <td>NaN</td>\n",
       "      <td>NaN</td>\n",
       "    </tr>\n",
       "    <tr>\n",
       "      <th>7528</th>\n",
       "      <td>GO78629222.SAINT.PETER.ST...........</td>\n",
       "      <td>BELLE OAKS INN</td>\n",
       "      <td>222 SAINT PETER ST</td>\n",
       "      <td>BELLE OAKS INN 222 SAINT PETER ST</td>\n",
       "      <td>NaN</td>\n",
       "      <td>NaN</td>\n",
       "    </tr>\n",
       "    <tr>\n",
       "      <th>7529</th>\n",
       "      <td>HO770247855.KATY.FWY................</td>\n",
       "      <td>CLSD WELLESLEY INN &amp; SUITES</td>\n",
       "      <td>7855 KATY FWY</td>\n",
       "      <td>CLSD WELLESLEY INN &amp; SUITES 7855 KATY FWY</td>\n",
       "      <td>NaN</td>\n",
       "      <td>NaN</td>\n",
       "    </tr>\n",
       "    <tr>\n",
       "      <th>7530</th>\n",
       "      <td>SO78078SOUTH.PADRE.ISLAND...........</td>\n",
       "      <td>SEA RANCH MOTEL</td>\n",
       "      <td>SOUTH PADRE ISLAND</td>\n",
       "      <td>SEA RANCH MOTEL SOUTH PADRE ISLAND</td>\n",
       "      <td>NaN</td>\n",
       "      <td>NaN</td>\n",
       "    </tr>\n",
       "  </tbody>\n",
       "</table>\n",
       "<p>7531 rows × 6 columns</p>\n",
       "</div>"
      ],
      "text/plain": [
       "                                       HTL                       HOTEL_NAME  \\\n",
       "0     DA75201400.OLIVE.ST.................                  SHERATON DALLAS   \n",
       "1     GR760511501.GAYLORD.TRL.............  GAYLORD TEXAS RESORT & CONF CTR   \n",
       "2     DA752072201.N.STEMMONS.FWY..........             HILTON ANATOLE HOTEL   \n",
       "3     HO770101600.LAMAR.ST................   HILTON AMERICAS CONVENTION CTR   \n",
       "4     DA75207300.E.REUNION.BLVD...........    HYATT REGENCY DALLAS DOWNTOWN   \n",
       "...                                    ...                              ...   \n",
       "7526  HO770707700.WILLOW.CHASE.BLVD.APT.17               MARRIOTT EXECUSTAY   \n",
       "7527  DR786202390.PROCHNOW.RD.............                    MT GAINOR INN   \n",
       "7528  GO78629222.SAINT.PETER.ST...........                   BELLE OAKS INN   \n",
       "7529  HO770247855.KATY.FWY................      CLSD WELLESLEY INN & SUITES   \n",
       "7530  SO78078SOUTH.PADRE.ISLAND...........                  SEA RANCH MOTEL   \n",
       "\n",
       "                              ADDRESS  \\\n",
       "0                        400 OLIVE ST   \n",
       "1                    1501 GAYLORD TRL   \n",
       "2                 2201 N STEMMONS FWY   \n",
       "3                       1600 LAMAR ST   \n",
       "4                  300 E REUNION BLVD   \n",
       "...                               ...   \n",
       "7526  7700 WILLOW CHASE BLVD APT 1733   \n",
       "7527                 2390 PROCHNOW RD   \n",
       "7528               222 SAINT PETER ST   \n",
       "7529                    7855 KATY FWY   \n",
       "7530               SOUTH PADRE ISLAND   \n",
       "\n",
       "                                          Google_Search  Google_Image_Href  \\\n",
       "0                          SHERATON DALLAS 400 OLIVE ST                NaN   \n",
       "1      GAYLORD TEXAS RESORT & CONF CTR 1501 GAYLORD TRL                NaN   \n",
       "2              HILTON ANATOLE HOTEL 2201 N STEMMONS FWY                NaN   \n",
       "3          HILTON AMERICAS CONVENTION CTR 1600 LAMAR ST                NaN   \n",
       "4      HYATT REGENCY DALLAS DOWNTOWN 300 E REUNION BLVD                NaN   \n",
       "...                                                 ...                ...   \n",
       "7526  MARRIOTT EXECUSTAY 7700 WILLOW CHASE BLVD APT ...                NaN   \n",
       "7527                     MT GAINOR INN 2390 PROCHNOW RD                NaN   \n",
       "7528                  BELLE OAKS INN 222 SAINT PETER ST                NaN   \n",
       "7529          CLSD WELLESLEY INN & SUITES 7855 KATY FWY                NaN   \n",
       "7530                 SEA RANCH MOTEL SOUTH PADRE ISLAND                NaN   \n",
       "\n",
       "      Google_Streetview_Href  \n",
       "0                        NaN  \n",
       "1                        NaN  \n",
       "2                        NaN  \n",
       "3                        NaN  \n",
       "4                        NaN  \n",
       "...                      ...  \n",
       "7526                     NaN  \n",
       "7527                     NaN  \n",
       "7528                     NaN  \n",
       "7529                     NaN  \n",
       "7530                     NaN  \n",
       "\n",
       "[7531 rows x 6 columns]"
      ]
     },
     "execution_count": 6,
     "metadata": {},
     "output_type": "execute_result"
    }
   ],
   "source": [
    "df = pd.read_csv(r\"/Users/kylewang/Desktop/MLSA/Scripts/google_images.csv\", encoding= 'unicode_escape')\n",
    "df = df.rename(columns={\"ï»¿HTL\": \"HTL\"})\n",
    "df"
   ]
  },
  {
   "cell_type": "code",
   "execution_count": 7,
   "id": "3c1d6391",
   "metadata": {},
   "outputs": [],
   "source": [
    "df = df[7435:]\n",
    "df"
   ]
  },
  {
   "cell_type": "code",
   "execution_count": 9,
   "id": "5e87ab6d",
   "metadata": {},
   "outputs": [],
   "source": [
    "def save_img(url, output_path):\n",
    "    try:\n",
    "        if \"data:image/\" in url:\n",
    "            url = url.replace('data:image/jpeg;base64,',\"\").replace('data:image/jpg;base64,',\"\")\n",
    "            image_data = base64.b64decode(url)\n",
    "            image = Image.open(BytesIO(image_data))\n",
    "            image.save(output_path, format='JPEG')\n",
    "        else:\n",
    "            response = requests.get(url)\n",
    "            response.raise_for_status()\n",
    "            with open(output_path, 'wb') as file:\n",
    "                file.write(response.content)\n",
    "    except:\n",
    "        print(traceback.format_exc())\n",
    "        print(\"Fail Down IMG\")"
   ]
  },
  {
   "cell_type": "code",
   "execution_count": 6,
   "id": "eb464638",
   "metadata": {},
   "outputs": [
    {
     "name": "stdout",
     "output_type": "stream",
     "text": [
      "Folder already exists.\n",
      "Folder already exists.\n"
     ]
    },
    {
     "name": "stderr",
     "output_type": "stream",
     "text": [
      "C:\\Users\\kylew\\AppData\\Local\\Temp\\ipykernel_45100\\3098742563.py:9: DeprecationWarning: executable_path has been deprecated, please pass in a Service object\n",
      "  driver = webdriver.Chrome(executable_path=r\"C:\\Users\\kylew\\OneDrive\\Desktop\\Advent\\chromedriver.exe\", options=chromeOptions)\n"
     ]
    },
    {
     "name": "stdout",
     "output_type": "stream",
     "text": [
      "\n"
     ]
    },
    {
     "name": "stderr",
     "output_type": "stream",
     "text": [
      "  1%|          | 1/96 [00:04<06:24,  4.05s/it]"
     ]
    },
    {
     "name": "stdout",
     "output_type": "stream",
     "text": [
      "PO78598SOUTH.SHORE.DRIVE............_google\n",
      "PO78598SOUTH.SHORE.DRIVE............_streetview\n"
     ]
    },
    {
     "name": "stderr",
     "output_type": "stream",
     "text": [
      "\r",
      "  2%|▏         | 2/96 [00:08<06:15,  3.99s/it]"
     ]
    },
    {
     "name": "stdout",
     "output_type": "stream",
     "text": [
      "KE77565710.BRADFORD.AVE............._google\n",
      "KE77565710.BRADFORD.AVE............._streetview\n"
     ]
    },
    {
     "name": "stderr",
     "output_type": "stream",
     "text": [
      "  4%|▍         | 4/96 [00:15<05:49,  3.80s/it]"
     ]
    },
    {
     "name": "stdout",
     "output_type": "stream",
     "text": [
      "SH779841016.N.AVENUE.E.............._google\n",
      "SH779841016.N.AVENUE.E.............._streetview\n"
     ]
    },
    {
     "name": "stderr",
     "output_type": "stream",
     "text": [
      "  7%|▋         | 7/96 [00:25<05:06,  3.44s/it]"
     ]
    },
    {
     "name": "stdout",
     "output_type": "stream",
     "text": [
      "AL79830209.W.HOLLAND.AVE............_google\n",
      "AL79830209.W.HOLLAND.AVE............_streetview\n"
     ]
    },
    {
     "name": "stderr",
     "output_type": "stream",
     "text": [
      "  9%|▉         | 9/96 [00:31<04:56,  3.40s/it]"
     ]
    },
    {
     "name": "stdout",
     "output_type": "stream",
     "text": [
      "KA75661245.PARK.ROAD.2.............._google\n"
     ]
    },
    {
     "name": "stderr",
     "output_type": "stream",
     "text": [
      "\r",
      " 10%|█         | 10/96 [00:35<04:57,  3.46s/it]"
     ]
    },
    {
     "name": "stdout",
     "output_type": "stream",
     "text": [
      "RI78379990.E.FM.628................._google\n",
      "RI78379990.E.FM.628................._streetview\n"
     ]
    },
    {
     "name": "stderr",
     "output_type": "stream",
     "text": [
      "\r",
      " 11%|█▏        | 11/96 [00:38<04:56,  3.48s/it]"
     ]
    },
    {
     "name": "stdout",
     "output_type": "stream",
     "text": [
      "AU787052602.GUADALUPE.ST............_google\n",
      "AU787052602.GUADALUPE.ST............_streetview\n"
     ]
    },
    {
     "name": "stderr",
     "output_type": "stream",
     "text": [
      "\r",
      " 12%|█▎        | 12/96 [00:42<04:59,  3.56s/it]"
     ]
    },
    {
     "name": "stdout",
     "output_type": "stream",
     "text": [
      "JE75657123.W.AUSTIN.ST.............._google\n",
      "JE75657123.W.AUSTIN.ST.............._streetview\n"
     ]
    },
    {
     "name": "stderr",
     "output_type": "stream",
     "text": [
      "\r",
      " 14%|█▎        | 13/96 [00:46<04:53,  3.54s/it]"
     ]
    },
    {
     "name": "stdout",
     "output_type": "stream",
     "text": [
      "RO78382WATER.AT.2ND................._google\n",
      "RO78382WATER.AT.2ND................._streetview\n"
     ]
    },
    {
     "name": "stderr",
     "output_type": "stream",
     "text": [
      " 16%|█▌        | 15/96 [00:52<04:33,  3.37s/it]"
     ]
    },
    {
     "name": "stdout",
     "output_type": "stream",
     "text": [
      "AM791246818.PLUM.CREEK.DR..........._streetview\n"
     ]
    },
    {
     "name": "stderr",
     "output_type": "stream",
     "text": [
      " 19%|█▉        | 18/96 [01:02<04:26,  3.42s/it]"
     ]
    },
    {
     "name": "stdout",
     "output_type": "stream",
     "text": [
      "CA78833214.S.NUECES.ST.............._google\n",
      "CA78833214.S.NUECES.ST.............._streetview\n"
     ]
    },
    {
     "name": "stderr",
     "output_type": "stream",
     "text": [
      " 24%|██▍       | 23/96 [01:20<04:19,  3.55s/it]"
     ]
    },
    {
     "name": "stdout",
     "output_type": "stream",
     "text": [
      "WI78676ON.THE.SQUARE................_google\n",
      "WI78676ON.THE.SQUARE................_streetview\n"
     ]
    },
    {
     "name": "stderr",
     "output_type": "stream",
     "text": [
      "\r",
      " 25%|██▌       | 24/96 [01:23<04:15,  3.56s/it]"
     ]
    },
    {
     "name": "stdout",
     "output_type": "stream",
     "text": [
      "RO78954HIGHWAY.237.AND.2ND.STREET..._google\n",
      "RO78954HIGHWAY.237.AND.2ND.STREET..._streetview\n"
     ]
    },
    {
     "name": "stderr",
     "output_type": "stream",
     "text": [
      "\r",
      " 26%|██▌       | 25/96 [01:27<04:12,  3.56s/it]"
     ]
    },
    {
     "name": "stdout",
     "output_type": "stream",
     "text": [
      "BR77833245.O'MALLEY.RD.............._google\n",
      "BR77833245.O'MALLEY.RD.............._streetview\n"
     ]
    },
    {
     "name": "stderr",
     "output_type": "stream",
     "text": [
      "\r",
      " 27%|██▋       | 26/96 [01:31<04:14,  3.64s/it]"
     ]
    },
    {
     "name": "stdout",
     "output_type": "stream",
     "text": [
      "AN77514FRONT.&.CUMMINGS............._google\n",
      "AN77514FRONT.&.CUMMINGS............._streetview\n"
     ]
    },
    {
     "name": "stderr",
     "output_type": "stream",
     "text": [
      "\r",
      " 28%|██▊       | 27/96 [01:34<04:07,  3.58s/it]"
     ]
    },
    {
     "name": "stdout",
     "output_type": "stream",
     "text": [
      "BR77833CO.RD.1/2.MI.E.OF.FM.2621...._google\n",
      "Traceback (most recent call last):\n",
      "  File \"C:\\Users\\kylew\\AppData\\Local\\Temp\\ipykernel_45100\\1343351901.py\", line 7, in save_img\n",
      "    image.save(output_path, format='JPEG')\n",
      "  File \"C:\\Users\\kylew\\anaconda3\\lib\\site-packages\\PIL\\Image.py\", line 2317, in save\n",
      "    fp = builtins.open(filename, \"w+b\")\n",
      "FileNotFoundError: [Errno 2] No such file or directory: 'htl_google/BR77833CO.RD.1/2.MI.E.OF.FM.2621...._google.png'\n",
      "\n",
      "Fail Down IMG\n",
      "BR77833CO.RD.1/2.MI.E.OF.FM.2621...._streetview\n",
      "Traceback (most recent call last):\n",
      "  File \"C:\\Users\\kylew\\AppData\\Local\\Temp\\ipykernel_45100\\1343351901.py\", line 7, in save_img\n",
      "    image.save(output_path, format='JPEG')\n",
      "  File \"C:\\Users\\kylew\\anaconda3\\lib\\site-packages\\PIL\\Image.py\", line 2317, in save\n",
      "    fp = builtins.open(filename, \"w+b\")\n",
      "FileNotFoundError: [Errno 2] No such file or directory: 'htl_streetview/BR77833CO.RD.1/2.MI.E.OF.FM.2621...._streetview.png'\n",
      "\n",
      "Fail Down IMG\n"
     ]
    },
    {
     "name": "stderr",
     "output_type": "stream",
     "text": [
      "\r",
      " 29%|██▉       | 28/96 [01:38<04:05,  3.60s/it]"
     ]
    },
    {
     "name": "stdout",
     "output_type": "stream",
     "text": [
      "FO76106109.W.EXCHANGE.AVE.STE.200..._google\n",
      "FO76106109.W.EXCHANGE.AVE.STE.200..._streetview\n"
     ]
    },
    {
     "name": "stderr",
     "output_type": "stream",
     "text": [
      " 39%|███▊      | 37/96 [02:08<03:18,  3.37s/it]"
     ]
    },
    {
     "name": "stdout",
     "output_type": "stream",
     "text": [
      "SA782172640.NACOGDOCHES.RD.........._google\n",
      "SA782172640.NACOGDOCHES.RD.........._streetview\n"
     ]
    },
    {
     "name": "stderr",
     "output_type": "stream",
     "text": [
      "\r",
      " 40%|███▉      | 38/96 [02:12<03:22,  3.48s/it]"
     ]
    },
    {
     "name": "stdout",
     "output_type": "stream",
     "text": [
      "CA78133537.SKYLINE.DR..............._google\n",
      "CA78133537.SKYLINE.DR..............._streetview\n"
     ]
    },
    {
     "name": "stderr",
     "output_type": "stream",
     "text": [
      " 42%|████▏     | 40/96 [02:19<03:08,  3.37s/it]"
     ]
    },
    {
     "name": "stdout",
     "output_type": "stream",
     "text": [
      "PO77982305.ADAMS.AVE................_streetview\n"
     ]
    },
    {
     "name": "stderr",
     "output_type": "stream",
     "text": [
      " 50%|█████     | 48/96 [02:44<02:39,  3.31s/it]"
     ]
    },
    {
     "name": "stdout",
     "output_type": "stream",
     "text": [
      "SA782408525.FLOYD.CURL.DR..........._google\n",
      "SA782408525.FLOYD.CURL.DR..........._streetview\n"
     ]
    },
    {
     "name": "stderr",
     "output_type": "stream",
     "text": [
      "\r",
      " 51%|█████     | 49/96 [02:47<02:36,  3.32s/it]"
     ]
    },
    {
     "name": "stdout",
     "output_type": "stream",
     "text": [
      "AU787011304.RIO.GRANDE.ST..........._google\n",
      "AU787011304.RIO.GRANDE.ST..........._streetview\n"
     ]
    },
    {
     "name": "stderr",
     "output_type": "stream",
     "text": [
      " 53%|█████▎    | 51/96 [02:55<02:42,  3.61s/it]"
     ]
    },
    {
     "name": "stdout",
     "output_type": "stream",
     "text": [
      "SA78208621.PIERCE.AVE..............._google\n",
      "SA78208621.PIERCE.AVE..............._streetview\n"
     ]
    },
    {
     "name": "stderr",
     "output_type": "stream",
     "text": [
      "\r",
      " 54%|█████▍    | 52/96 [02:59<02:42,  3.70s/it]"
     ]
    },
    {
     "name": "stdout",
     "output_type": "stream",
     "text": [
      "DA752012516.MAPLE.AVENUE............_google\n",
      "DA752012516.MAPLE.AVENUE............_streetview\n"
     ]
    },
    {
     "name": "stderr",
     "output_type": "stream",
     "text": [
      " 56%|█████▋    | 54/96 [03:06<02:38,  3.77s/it]"
     ]
    },
    {
     "name": "stdout",
     "output_type": "stream",
     "text": [
      "DA752193701.FAIRMOUNT.ST............_google\n",
      "DA752193701.FAIRMOUNT.ST............_streetview\n"
     ]
    },
    {
     "name": "stderr",
     "output_type": "stream",
     "text": [
      "\r",
      " 57%|█████▋    | 55/96 [03:10<02:32,  3.71s/it]"
     ]
    },
    {
     "name": "stdout",
     "output_type": "stream",
     "text": [
      "SA782272644.SW.LOOP.410............._google\n",
      "SA782272644.SW.LOOP.410............._streetview\n"
     ]
    },
    {
     "name": "stderr",
     "output_type": "stream",
     "text": [
      " 59%|█████▉    | 57/96 [03:16<02:16,  3.49s/it]"
     ]
    },
    {
     "name": "stdout",
     "output_type": "stream",
     "text": [
      "AR783361330.S.COMMERCIAL.ST........._google\n",
      "AR783361330.S.COMMERCIAL.ST........._streetview\n"
     ]
    },
    {
     "name": "stderr",
     "output_type": "stream",
     "text": [
      " 62%|██████▎   | 60/96 [03:26<01:58,  3.30s/it]"
     ]
    },
    {
     "name": "stdout",
     "output_type": "stream",
     "text": [
      "LO7856620.CHACHALACA.BND............_google\n"
     ]
    },
    {
     "name": "stderr",
     "output_type": "stream",
     "text": [
      "\r",
      " 64%|██████▎   | 61/96 [03:30<02:00,  3.43s/it]"
     ]
    },
    {
     "name": "stdout",
     "output_type": "stream",
     "text": [
      "AU787021609.E.CESAR.CHAVEZ.ST......._google\n"
     ]
    },
    {
     "name": "stderr",
     "output_type": "stream",
     "text": [
      " 67%|██████▋   | 64/96 [03:41<02:00,  3.77s/it]"
     ]
    },
    {
     "name": "stdout",
     "output_type": "stream",
     "text": [
      "AU7873611110.FITZHUGH.RD............_google\n",
      "AU7873611110.FITZHUGH.RD............_streetview\n"
     ]
    },
    {
     "name": "stderr",
     "output_type": "stream",
     "text": [
      "\r",
      " 68%|██████▊   | 65/96 [03:45<01:54,  3.68s/it]"
     ]
    },
    {
     "name": "stdout",
     "output_type": "stream",
     "text": [
      "SO78597110.PADRE.BLVD..............._google\n"
     ]
    },
    {
     "name": "stderr",
     "output_type": "stream",
     "text": [
      "\r",
      " 69%|██████▉   | 66/96 [03:49<01:51,  3.71s/it]"
     ]
    },
    {
     "name": "stdout",
     "output_type": "stream",
     "text": [
      "GA775532021.STRAND.................._streetview\n"
     ]
    },
    {
     "name": "stderr",
     "output_type": "stream",
     "text": [
      " 72%|███████▏  | 69/96 [03:59<01:33,  3.46s/it]"
     ]
    },
    {
     "name": "stdout",
     "output_type": "stream",
     "text": [
      "GA775501816.POST.OFFICE.ST.........._streetview\n"
     ]
    },
    {
     "name": "stderr",
     "output_type": "stream",
     "text": [
      " 77%|███████▋  | 74/96 [04:14<01:11,  3.27s/it]"
     ]
    },
    {
     "name": "stdout",
     "output_type": "stream",
     "text": [
      "SU775412218.BLUE.WATER.HWY.........._streetview\n"
     ]
    },
    {
     "name": "stderr",
     "output_type": "stream",
     "text": [
      "\r",
      " 78%|███████▊  | 75/96 [04:18<01:09,  3.32s/it]"
     ]
    },
    {
     "name": "stdout",
     "output_type": "stream",
     "text": [
      "DA752042505.WORTHINGTON.ST.........._streetview\n"
     ]
    },
    {
     "name": "stderr",
     "output_type": "stream",
     "text": [
      " 82%|████████▏ | 79/96 [04:30<00:55,  3.28s/it]"
     ]
    },
    {
     "name": "stdout",
     "output_type": "stream",
     "text": [
      "GA775501914.AVENUE.M................_google\n",
      "GA775501914.AVENUE.M................_streetview\n"
     ]
    },
    {
     "name": "stderr",
     "output_type": "stream",
     "text": [
      "\r",
      " 83%|████████▎ | 80/96 [04:34<00:54,  3.38s/it]"
     ]
    },
    {
     "name": "stdout",
     "output_type": "stream",
     "text": [
      "NE78130424.COMAL.AVE................_google\n",
      "NE78130424.COMAL.AVE................_streetview\n"
     ]
    },
    {
     "name": "stderr",
     "output_type": "stream",
     "text": [
      "\r",
      " 84%|████████▍ | 81/96 [04:38<00:51,  3.45s/it]"
     ]
    },
    {
     "name": "stdout",
     "output_type": "stream",
     "text": [
      "FR786243234.LUCKENBACH.RD..........._google\n"
     ]
    },
    {
     "name": "stderr",
     "output_type": "stream",
     "text": [
      " 86%|████████▋ | 83/96 [04:44<00:43,  3.32s/it]"
     ]
    },
    {
     "name": "stdout",
     "output_type": "stream",
     "text": [
      "SA78205951.S.ALAMO.ST..............._google\n"
     ]
    },
    {
     "name": "stderr",
     "output_type": "stream",
     "text": [
      "\r",
      " 88%|████████▊ | 84/96 [04:47<00:40,  3.38s/it]"
     ]
    },
    {
     "name": "stdout",
     "output_type": "stream",
     "text": [
      "SA78212124.W.WOODLAWN.AVE..........._streetview\n"
     ]
    },
    {
     "name": "stderr",
     "output_type": "stream",
     "text": [
      "\r",
      " 89%|████████▊ | 85/96 [04:51<00:38,  3.47s/it]"
     ]
    },
    {
     "name": "stdout",
     "output_type": "stream",
     "text": [
      "HO770302232.BELLEFONTAINE.ST........_google\n",
      "HO770302232.BELLEFONTAINE.ST........_streetview\n"
     ]
    },
    {
     "name": "stderr",
     "output_type": "stream",
     "text": [
      " 92%|█████████▏| 88/96 [05:01<00:26,  3.32s/it]"
     ]
    },
    {
     "name": "stdout",
     "output_type": "stream",
     "text": [
      "AU787307014.GREENSHORES.DR.........._google\n",
      "AU787307014.GREENSHORES.DR.........._streetview\n"
     ]
    },
    {
     "name": "stderr",
     "output_type": "stream",
     "text": [
      "\r",
      " 93%|█████████▎| 89/96 [05:04<00:22,  3.23s/it]"
     ]
    },
    {
     "name": "stdout",
     "output_type": "stream",
     "text": [
      "TY75702505.S.CHILTON.AVE............_google\n",
      "TY75702505.S.CHILTON.AVE............_streetview\n"
     ]
    },
    {
     "name": "stderr",
     "output_type": "stream",
     "text": [
      " 97%|█████████▋| 93/96 [05:16<00:09,  3.15s/it]"
     ]
    },
    {
     "name": "stdout",
     "output_type": "stream",
     "text": [
      "DR786202390.PROCHNOW.RD............._google\n"
     ]
    },
    {
     "name": "stderr",
     "output_type": "stream",
     "text": [
      "\r",
      " 98%|█████████▊| 94/96 [05:20<00:06,  3.29s/it]"
     ]
    },
    {
     "name": "stdout",
     "output_type": "stream",
     "text": [
      "GO78629222.SAINT.PETER.ST..........._google\n",
      "GO78629222.SAINT.PETER.ST..........._streetview\n"
     ]
    },
    {
     "name": "stderr",
     "output_type": "stream",
     "text": [
      "100%|██████████| 96/96 [05:27<00:00,  3.41s/it]"
     ]
    },
    {
     "name": "stdout",
     "output_type": "stream",
     "text": [
      "SO78078SOUTH.PADRE.ISLAND..........._google\n",
      "SO78078SOUTH.PADRE.ISLAND..........._streetview\n"
     ]
    },
    {
     "name": "stderr",
     "output_type": "stream",
     "text": [
      "\n"
     ]
    }
   ],
   "source": [
    "f_img_1 = \"htl_google\"\n",
    "f_img_2 = \"htl_streetview\"\n",
    "try:\n",
    "    os.makedirs(f_img_1)\n",
    "    print(f\"Folder created successfully.\")\n",
    "except FileExistsError:\n",
    "    print(f\"Folder already exists.\")\n",
    "try:\n",
    "    os.makedirs(f_img_2)\n",
    "    print(f\"Folder created successfully.\")\n",
    "except FileExistsError:\n",
    "    print(f\"Folder already exists.\")\n",
    "\n",
    "driver = openChrome()\n",
    "input()\n",
    "\n",
    "with tqdm(total=len(df)) as pbar:\n",
    "    for index, row in df.iterrows():\n",
    "        sech = row['Google_Search']\n",
    "        htl = row['HTL']\n",
    "        for tz in range(9):\n",
    "            try:\n",
    "                driver.get(f\"https://www.google.com/search?q={sech}\")\n",
    "                sleep(1)\n",
    "                element = WebDriverWait(driver,33).until(\n",
    "                    EC.presence_of_element_located((By.XPATH, \"//div[@class='logo']\"))\n",
    "                )\n",
    "                sleep(1)\n",
    "\n",
    "                page_source  = driver.page_source\n",
    "                soup = BeautifulSoup(page_source, 'html.parser')\n",
    "\n",
    "                pattern = re.compile(r'photos$')\n",
    "                img1 = soup.find(\"img\", attrs={\"alt\": pattern})\n",
    "                if img1 != None:\n",
    "                    img1 = img1.get(\"src\")\n",
    "                    name_img1 = htl + \"_google\"\n",
    "                    print(name_img1)\n",
    "                    save_img(img1, f\"{f_img_1}/{name_img1}.png\")\n",
    "\n",
    "                pattern = re.compile(r'outside$')\n",
    "                img2 = soup.find(\"img\", attrs={\"alt\":pattern})\n",
    "                if img2 != None:\n",
    "                    img2 = img2.get(\"src\")\n",
    "                    name_img2 = htl + \"_streetview\"\n",
    "                    print(name_img2)\n",
    "                    save_img(img2, f\"{f_img_2}/{name_img2}.png\")\n",
    "                break\n",
    "            except:# ZeroDivisionError  as e:\n",
    "                print(traceback.format_exc())\n",
    "                print(\"Fail Try Again\")\n",
    "                sleep(3)\n",
    "        pbar.update(1)"
   ]
  },
  {
   "cell_type": "code",
   "execution_count": null,
   "id": "69c7a217",
   "metadata": {},
   "outputs": [],
   "source": []
  }
 ],
 "metadata": {
  "kernelspec": {
   "display_name": "Python 3 (ipykernel)",
   "language": "python",
   "name": "python3"
  },
  "language_info": {
   "codemirror_mode": {
    "name": "ipython",
    "version": 3
   },
   "file_extension": ".py",
   "mimetype": "text/x-python",
   "name": "python",
   "nbconvert_exporter": "python",
   "pygments_lexer": "ipython3",
   "version": "3.10.8"
  }
 },
 "nbformat": 4,
 "nbformat_minor": 5
}
